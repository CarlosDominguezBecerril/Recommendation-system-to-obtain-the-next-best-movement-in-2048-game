{
 "cells": [
  {
   "cell_type": "markdown",
   "metadata": {
    "papermill": {
     "duration": 0.024601,
     "end_time": "2020-11-14T23:50:24.410742",
     "exception": false,
     "start_time": "2020-11-14T23:50:24.386141",
     "status": "completed"
    },
    "tags": []
   },
   "source": [
    "# Recommendation system to obtain the next best movement in 2048 Game"
   ]
  },
  {
   "cell_type": "markdown",
   "metadata": {
    "papermill": {
     "duration": 0.022186,
     "end_time": "2020-11-14T23:50:24.455504",
     "exception": false,
     "start_time": "2020-11-14T23:50:24.433318",
     "status": "completed"
    },
    "tags": []
   },
   "source": [
    "2048 is often played on a gray 4×4 grid, with numbered tiles that slide when a player moves them using the four arrow keys. Every turn, a new tile will randomly appear in an empty spot on the board with a value of 2. Tiles slide as far as possible in the chosen direction until they are stopped by either another tile or the edge of the grid. If two tiles of the same number collide while moving, they will merge into a tile with the total value of the two tiles that collided. The resulting tile cannot merge with another tile again in the same move. The intend of this project is to build a neural network using neuroevolution to add a component that improves the game experience, in our case, we implement a recommendation system to obtain the next best movement that can be done in the game to make an easier user experience."
   ]
  },
  {
   "cell_type": "markdown",
   "metadata": {
    "papermill": {
     "duration": 0.021755,
     "end_time": "2020-11-14T23:50:24.499650",
     "exception": false,
     "start_time": "2020-11-14T23:50:24.477895",
     "status": "completed"
    },
    "tags": []
   },
   "source": [
    "Authors: Carlos Domínguez Becerril and Aitor González Marfil"
   ]
  },
  {
   "cell_type": "markdown",
   "metadata": {
    "papermill": {
     "duration": 0.021692,
     "end_time": "2020-11-14T23:50:24.543480",
     "exception": false,
     "start_time": "2020-11-14T23:50:24.521788",
     "status": "completed"
    },
    "tags": []
   },
   "source": [
    "### Imports"
   ]
  },
  {
   "cell_type": "code",
   "execution_count": 1,
   "metadata": {
    "execution": {
     "iopub.execute_input": "2020-11-14T23:50:24.595051Z",
     "iopub.status.busy": "2020-11-14T23:50:24.594299Z",
     "iopub.status.idle": "2020-11-14T23:50:25.432297Z",
     "shell.execute_reply": "2020-11-14T23:50:25.431519Z"
    },
    "papermill": {
     "duration": 0.866828,
     "end_time": "2020-11-14T23:50:25.432470",
     "exception": false,
     "start_time": "2020-11-14T23:50:24.565642",
     "status": "completed"
    },
    "tags": []
   },
   "outputs": [],
   "source": [
    "import pickle\n",
    "\n",
    "# Libraries to work with numbers\n",
    "import numpy as np\n",
    "from scipy.special import softmax\n",
    "from sklearn.preprocessing import normalize\n",
    "import matplotlib.pyplot as plt\n",
    "import math\n",
    "import random\n",
    "\n",
    "plt.rcParams['figure.figsize'] = [5, 5]\n",
    "plt.rcParams['figure.dpi'] = 100 "
   ]
  },
  {
   "cell_type": "code",
   "execution_count": 2,
   "metadata": {
    "execution": {
     "iopub.execute_input": "2020-11-14T23:50:25.485382Z",
     "iopub.status.busy": "2020-11-14T23:50:25.484464Z",
     "iopub.status.idle": "2020-11-14T23:50:47.522002Z",
     "shell.execute_reply": "2020-11-14T23:50:47.521381Z"
    },
    "papermill": {
     "duration": 22.066369,
     "end_time": "2020-11-14T23:50:47.522140",
     "exception": false,
     "start_time": "2020-11-14T23:50:25.455771",
     "status": "completed"
    },
    "tags": []
   },
   "outputs": [
    {
     "name": "stdout",
     "output_type": "stream",
     "text": [
      "Collecting neat\r\n",
      "  Downloading neat-0.4.1.tar.gz (88 kB)\r\n",
      "\u001b[K     |████████████████████████████████| 88 kB 1.0 MB/s \r\n",
      "\u001b[?25hCollecting WebOb\r\n",
      "  Downloading WebOb-1.8.6-py2.py3-none-any.whl (114 kB)\r\n",
      "\u001b[K     |████████████████████████████████| 114 kB 4.4 MB/s \r\n",
      "\u001b[?25hBuilding wheels for collected packages: neat\r\n",
      "  Building wheel for neat (setup.py) ... \u001b[?25l-\b \b\\\b \b|\b \b/\b \b-\b \bdone\r\n",
      "\u001b[?25h  Created wheel for neat: filename=neat-0.4.1-py3-none-any.whl size=8078 sha256=ed920b774537515619dc0247697264b249a8819cdcd93d226278f0eadf39bd83\r\n",
      "  Stored in directory: /root/.cache/pip/wheels/12/e6/c7/c5ea0eb2ce1c5f3f4385e9c21b2b2826388aafd029b888d612\r\n",
      "Successfully built neat\r\n",
      "Installing collected packages: WebOb, neat\r\n",
      "Successfully installed WebOb-1.8.6 neat-0.4.1\r\n",
      "Collecting neat-python\r\n",
      "  Downloading neat_python-0.92-py3-none-any.whl (44 kB)\r\n",
      "\u001b[K     |████████████████████████████████| 44 kB 324 kB/s \r\n",
      "\u001b[?25hInstalling collected packages: neat-python\r\n",
      "Successfully installed neat-python-0.92\r\n"
     ]
    }
   ],
   "source": [
    "!pip install neat\n",
    "!pip install neat-python"
   ]
  },
  {
   "cell_type": "markdown",
   "metadata": {
    "papermill": {
     "duration": 0.031029,
     "end_time": "2020-11-14T23:50:47.585462",
     "exception": false,
     "start_time": "2020-11-14T23:50:47.554433",
     "status": "completed"
    },
    "tags": []
   },
   "source": [
    "### 2048 game"
   ]
  },
  {
   "cell_type": "markdown",
   "metadata": {
    "papermill": {
     "duration": 0.030649,
     "end_time": "2020-11-14T23:50:47.647387",
     "exception": false,
     "start_time": "2020-11-14T23:50:47.616738",
     "status": "completed"
    },
    "tags": []
   },
   "source": [
    "The implementation of the game has been taken from https://github.com/yangshun/2048-python developed by Yangshun Tay."
   ]
  },
  {
   "cell_type": "markdown",
   "metadata": {
    "papermill": {
     "duration": 0.030823,
     "end_time": "2020-11-14T23:50:47.709529",
     "exception": false,
     "start_time": "2020-11-14T23:50:47.678706",
     "status": "completed"
    },
    "tags": []
   },
   "source": [
    "The code of the game consists in 3 files:\n",
    "\n",
    "- Constants.py: Includes the constants that the GUI is going to use. It includes: colors, valid keys, fonts, grid size, window size ...\n",
    "\n",
    "- Logic.py: Includes the logic of the game that allows to perform the different movements, tiles merging, creation of new tiles ...\n",
    "\n",
    "- Puzzle.py: Includes the GUI of the game."
   ]
  },
  {
   "cell_type": "code",
   "execution_count": 3,
   "metadata": {
    "execution": {
     "iopub.execute_input": "2020-11-14T23:50:47.787442Z",
     "iopub.status.busy": "2020-11-14T23:50:47.786676Z",
     "iopub.status.idle": "2020-11-14T23:50:47.790086Z",
     "shell.execute_reply": "2020-11-14T23:50:47.789553Z"
    },
    "papermill": {
     "duration": 0.049743,
     "end_time": "2020-11-14T23:50:47.790208",
     "exception": false,
     "start_time": "2020-11-14T23:50:47.740465",
     "status": "completed"
    },
    "tags": []
   },
   "outputs": [],
   "source": [
    "SIZE = 400\n",
    "GRID_LEN = 4\n",
    "GRID_PADDING = 10\n",
    "\n",
    "BACKGROUND_COLOR_GAME = \"#92877d\"\n",
    "BACKGROUND_COLOR_CELL_EMPTY = \"#9e948a\"\n",
    "\n",
    "BACKGROUND_COLOR_DICT = {2: \"#eee4da\", 4: \"#ede0c8\", 8: \"#f2b179\",\n",
    "                         16: \"#f59563\", 32: \"#f67c5f\", 64: \"#f65e3b\",\n",
    "                         128: \"#edcf72\", 256: \"#edcc61\", 512: \"#edc850\",\n",
    "                         1024: \"#edc53f\", 2048: \"#edc22e\",\n",
    "\n",
    "                         4096: \"#eee4da\", 8192: \"#edc22e\", 16384: \"#f2b179\",\n",
    "                         32768: \"#f59563\", 65536: \"#f67c5f\", }\n",
    "\n",
    "CELL_COLOR_DICT = {2: \"#776e65\", 4: \"#776e65\", 8: \"#f9f6f2\", 16: \"#f9f6f2\",\n",
    "                   32: \"#f9f6f2\", 64: \"#f9f6f2\", 128: \"#f9f6f2\",\n",
    "                   256: \"#f9f6f2\", 512: \"#f9f6f2\", 1024: \"#f9f6f2\",\n",
    "                   2048: \"#f9f6f2\",\n",
    "\n",
    "                   4096: \"#776e65\", 8192: \"#f9f6f2\", 16384: \"#776e65\",\n",
    "                   32768: \"#776e65\", 65536: \"#f9f6f2\", }\n",
    "\n",
    "FONT = (\"Verdana\", 40, \"bold\")\n",
    "\n",
    "KEY_UP_ALT = \"\\'\\\\uf700\\'\"\n",
    "KEY_DOWN_ALT = \"\\'\\\\uf701\\'\"\n",
    "KEY_LEFT_ALT = \"\\'\\\\uf702\\'\"\n",
    "KEY_RIGHT_ALT = \"\\'\\\\uf703\\'\"\n",
    "\n",
    "KEY_UP = \"'w'\"\n",
    "KEY_DOWN = \"'s'\"\n",
    "KEY_LEFT = \"'a'\"\n",
    "KEY_RIGHT = \"'d'\"\n",
    "KEY_BACK = \"'b'\"\n",
    "\n",
    "KEY_J = \"'j'\"\n",
    "KEY_K = \"'k'\"\n",
    "KEY_L = \"'l'\"\n",
    "KEY_H = \"'h'\""
   ]
  },
  {
   "cell_type": "code",
   "execution_count": 4,
   "metadata": {
    "execution": {
     "iopub.execute_input": "2020-11-14T23:50:47.893694Z",
     "iopub.status.busy": "2020-11-14T23:50:47.883102Z",
     "iopub.status.idle": "2020-11-14T23:50:47.907762Z",
     "shell.execute_reply": "2020-11-14T23:50:47.907112Z"
    },
    "papermill": {
     "duration": 0.0864,
     "end_time": "2020-11-14T23:50:47.907901",
     "exception": false,
     "start_time": "2020-11-14T23:50:47.821501",
     "status": "completed"
    },
    "tags": []
   },
   "outputs": [],
   "source": [
    "#\n",
    "# CS1010FC --- Programming Methodology\n",
    "#\n",
    "# Mission N Solutions\n",
    "#\n",
    "# Note that written answers are commented out to allow us to run your\n",
    "# code easily while grading your problem set.\n",
    "\n",
    "#######\n",
    "#Task 1a#\n",
    "#######\n",
    "\n",
    "# [Marking Scheme]\n",
    "# Points to note:\n",
    "# Matrix elements must be equal but not identical\n",
    "# 1 mark for creating the correct matrix\n",
    "\n",
    "\n",
    "def new_game(n):\n",
    "    matrix = []\n",
    "\n",
    "    for i in range(n):\n",
    "        matrix.append([0] * n)\n",
    "    return matrix\n",
    "\n",
    "###########\n",
    "# Task 1b #\n",
    "###########\n",
    "\n",
    "# [Marking Scheme]\n",
    "# Points to note:\n",
    "# Must ensure that it is created on a zero entry\n",
    "# 1 mark for creating the correct loop\n",
    "\n",
    "\n",
    "def add_two(mat):\n",
    "    a = random.randint(0, len(mat)-1)\n",
    "    b = random.randint(0, len(mat)-1)\n",
    "    while(mat[a][b] != 0):\n",
    "        a = random.randint(0, len(mat)-1)\n",
    "        b = random.randint(0, len(mat)-1)\n",
    "    mat[a][b] = 2\n",
    "    return mat\n",
    "\n",
    "###########\n",
    "# Task 1c #\n",
    "###########\n",
    "\n",
    "# [Marking Scheme]\n",
    "# Points to note:\n",
    "# Matrix elements must be equal but not identical\n",
    "# 0 marks for completely wrong solutions\n",
    "# 1 mark for getting only one condition correct\n",
    "# 2 marks for getting two of the three conditions\n",
    "# 3 marks for correct checking\n",
    "\n",
    "\n",
    "def game_state(mat):\n",
    "    for i in range(len(mat)):\n",
    "        for j in range(len(mat[0])):\n",
    "            if mat[i][j] == 2048:\n",
    "                return 'win'\n",
    "    for i in range(len(mat)-1):\n",
    "        # intentionally reduced to check the row on the right and below\n",
    "        # more elegant to use exceptions but most likely this will be their solution\n",
    "        for j in range(len(mat[0])-1):\n",
    "            if mat[i][j] == mat[i+1][j] or mat[i][j+1] == mat[i][j]:\n",
    "                return 'not over'\n",
    "    for i in range(len(mat)):  # check for any zero entries\n",
    "        for j in range(len(mat[0])):\n",
    "            if mat[i][j] == 0:\n",
    "                return 'not over'\n",
    "    for k in range(len(mat)-1):  # to check the left/right entries on the last row\n",
    "        if mat[len(mat)-1][k] == mat[len(mat)-1][k+1]:\n",
    "            return 'not over'\n",
    "    for j in range(len(mat)-1):  # check up/down entries on last column\n",
    "        if mat[j][len(mat)-1] == mat[j+1][len(mat)-1]:\n",
    "            return 'not over'\n",
    "    return 'lose'\n",
    "\n",
    "###########\n",
    "# Task 2a #\n",
    "###########\n",
    "\n",
    "# [Marking Scheme]\n",
    "# Points to note:\n",
    "# 0 marks for completely incorrect solutions\n",
    "# 1 mark for solutions that show general understanding\n",
    "# 2 marks for correct solutions that work for all sizes of matrices\n",
    "\n",
    "\n",
    "def reverse(mat):\n",
    "    new = []\n",
    "    for i in range(len(mat)):\n",
    "        new.append([])\n",
    "        for j in range(len(mat[0])):\n",
    "            new[i].append(mat[i][len(mat[0])-j-1])\n",
    "    return new\n",
    "\n",
    "###########\n",
    "# Task 2b #\n",
    "###########\n",
    "\n",
    "# [Marking Scheme]\n",
    "# Points to note:\n",
    "# 0 marks for completely incorrect solutions\n",
    "# 1 mark for solutions that show general understanding\n",
    "# 2 marks for correct solutions that work for all sizes of matrices\n",
    "\n",
    "\n",
    "def transpose(mat):\n",
    "    new = []\n",
    "    for i in range(len(mat[0])):\n",
    "        new.append([])\n",
    "        for j in range(len(mat)):\n",
    "            new[i].append(mat[j][i])\n",
    "    return new\n",
    "\n",
    "##########\n",
    "# Task 3 #\n",
    "##########\n",
    "\n",
    "# [Marking Scheme]\n",
    "# Points to note:\n",
    "# The way to do movement is compress -> merge -> compress again\n",
    "# Basically if they can solve one side, and use transpose and reverse correctly they should\n",
    "# be able to solve the entire thing just by flipping the matrix around\n",
    "# No idea how to grade this one at the moment. I have it pegged to 8 (which gives you like,\n",
    "# 2 per up/down/left/right?) But if you get one correct likely to get all correct so...\n",
    "# Check the down one. Reverse/transpose if ordered wrongly will give you wrong result.\n",
    "\n",
    "\n",
    "def cover_up(mat):\n",
    "    new = []\n",
    "    for j in range(GRID_LEN):\n",
    "        partial_new = []\n",
    "        for i in range(GRID_LEN):\n",
    "            partial_new.append(0)\n",
    "        new.append(partial_new)\n",
    "    done = False\n",
    "    for i in range(GRID_LEN):\n",
    "        count = 0\n",
    "        for j in range(GRID_LEN):\n",
    "            if mat[i][j] != 0:\n",
    "                new[i][count] = mat[i][j]\n",
    "                if j != count:\n",
    "                    done = True\n",
    "                count += 1\n",
    "    return (new, done)\n",
    "\n",
    "\n",
    "def merge(mat):\n",
    "    done = False\n",
    "    for i in range(GRID_LEN):\n",
    "        for j in range(GRID_LEN-1):\n",
    "            if mat[i][j] == mat[i][j+1] and mat[i][j] != 0:\n",
    "                mat[i][j] *= 2\n",
    "                mat[i][j+1] = 0\n",
    "                done = True\n",
    "    return (mat, done)\n",
    "\n",
    "\n",
    "def up(game):\n",
    "    # print(\"up\")\n",
    "    # return matrix after shifting up\n",
    "    game = transpose(game)\n",
    "    game, done = cover_up(game)\n",
    "    temp = merge(game)\n",
    "    game = temp[0]\n",
    "    done = done or temp[1]\n",
    "    game = cover_up(game)[0]\n",
    "    game = transpose(game)\n",
    "    return (game, done)\n",
    "\n",
    "\n",
    "def down(game):\n",
    "    # print(\"down\")\n",
    "    game = reverse(transpose(game))\n",
    "    game, done = cover_up(game)\n",
    "    temp = merge(game)\n",
    "    game = temp[0]\n",
    "    done = done or temp[1]\n",
    "    game = cover_up(game)[0]\n",
    "    game = transpose(reverse(game))\n",
    "    return (game, done)\n",
    "\n",
    "\n",
    "def left(game):\n",
    "    # print(\"left\")\n",
    "    # return matrix after shifting left\n",
    "    game, done = cover_up(game)\n",
    "    temp = merge(game)\n",
    "    game = temp[0]\n",
    "    done = done or temp[1]\n",
    "    game = cover_up(game)[0]\n",
    "    return (game, done)\n",
    "\n",
    "\n",
    "def right(game):\n",
    "    # print(\"right\")\n",
    "    # return matrix after shifting right\n",
    "    game = reverse(game)\n",
    "    game, done = cover_up(game)\n",
    "    temp = merge(game)\n",
    "    game = temp[0]\n",
    "    done = done or temp[1]\n",
    "    game = cover_up(game)[0]\n",
    "    game = reverse(game)\n",
    "    return (game, done)"
   ]
  },
  {
   "cell_type": "markdown",
   "metadata": {
    "papermill": {
     "duration": 0.031879,
     "end_time": "2020-11-14T23:50:47.971599",
     "exception": false,
     "start_time": "2020-11-14T23:50:47.939720",
     "status": "completed"
    },
    "tags": []
   },
   "source": [
    "#### Puzzle V2 "
   ]
  },
  {
   "cell_type": "markdown",
   "metadata": {
    "papermill": {
     "duration": 0.031502,
     "end_time": "2020-11-14T23:50:48.034880",
     "exception": false,
     "start_time": "2020-11-14T23:50:48.003378",
     "status": "completed"
    },
    "tags": []
   },
   "source": [
    "This is a modified version of puzzle.py from https://github.com/yangshun/2048-python/blob/master/puzzle.py that removes the GUI part leaving only the core of the game and some extra functions to train the neural network.\n",
    "\n",
    "New Functions:\n",
    "- print_board: This function prints the board of the game in the standard output.\n",
    "- flatten: This function flattens the board of the game in a 1 dimensional array.\n",
    "- get_state: This function returns the state of the game \"not over\", \"win\" or \"lose\"\n",
    "- valid_movements: This function return the valid movements of the game in a vector where 0 is not valid and 1 is valid.\n",
    "- fitness: fitness function to train the neural network according to the smoothness, monotonicity, number of empty cells, maximum value in the matrix and sum of the values in the matrix. Taken from Ovolve user. https://github.com/ovolve/2048-AI"
   ]
  },
  {
   "cell_type": "code",
   "execution_count": 5,
   "metadata": {
    "execution": {
     "iopub.execute_input": "2020-11-14T23:50:48.124402Z",
     "iopub.status.busy": "2020-11-14T23:50:48.102697Z",
     "iopub.status.idle": "2020-11-14T23:50:48.156819Z",
     "shell.execute_reply": "2020-11-14T23:50:48.156214Z"
    },
    "papermill": {
     "duration": 0.090135,
     "end_time": "2020-11-14T23:50:48.156935",
     "exception": false,
     "start_time": "2020-11-14T23:50:48.066800",
     "status": "completed"
    },
    "tags": []
   },
   "outputs": [],
   "source": [
    "class game:\n",
    "    # Game matrix initialization and available commands.\n",
    "    def __init__(self):\n",
    "        self.commands = {0: up, 1: left, 2: down, 3: right}\n",
    "        self.init_matrix()\n",
    "    \n",
    "    # Perform an action in the game\n",
    "    def key_down(self, key, std_out=False):\n",
    "        if key in self.commands:\n",
    "            # make the movement\n",
    "            self.matrix, done = self.commands[key](self.matrix)\n",
    "            if done:\n",
    "                self.matrix = add_two(self.matrix)\n",
    "                done = False\n",
    "                board_state = self.get_state()\n",
    "                if board_state == 'win':\n",
    "                    print(\"YOU WIN!\")\n",
    "                if board_state == 'lose':\n",
    "                    if std_out:\n",
    "                        print(\"YOU LOSE!\")\n",
    "    \n",
    "    # Initialization of the game matrix\n",
    "    def init_matrix(self):\n",
    "        self.matrix = new_game(GRID_LEN)\n",
    "        self.matrix = add_two(self.matrix)\n",
    "        self.matrix = add_two(self.matrix)  \n",
    "    \n",
    "    # Print the board in the standard output\n",
    "    def print_board(self):\n",
    "        for i in self.matrix:\n",
    "            print(\" \".join([str(int) for int in i]))\n",
    "    \n",
    "    # Convert the matrix in a 1 dimensional array\n",
    "    def flatten(self):\n",
    "        return np.array(self.matrix).flatten()\n",
    "    \n",
    "    # Get the state of the game (\"not over\", \"win\", \"lose\")\n",
    "    def get_state(self):\n",
    "        return game_state(self.matrix)\n",
    "    \n",
    "    # Return the valid movements that we can perform\n",
    "    def valid_movements(self):\n",
    "        valid = []\n",
    "        for i in [0, 1, 2, 3]:\n",
    "            \n",
    "            # Save the old matrix so we can return to the previous state without altering the game\n",
    "            old = list(self.matrix)\n",
    "        \n",
    "            # Apply the movement\n",
    "            self.key_down(i, std_out=False)\n",
    "            \n",
    "            # Obtain the new matrix\n",
    "            new = list(self.matrix)\n",
    "            \n",
    "            # Check whether the old and new matrix are the same. \n",
    "            # Same -> 0 (movement not valid)\n",
    "            # Different -> 1 (valid movement)\n",
    "            if old != new:\n",
    "                valid.append(1)\n",
    "            else:\n",
    "                valid.append(0)\n",
    "            self.matrix = old\n",
    "        return valid\n",
    "    \n",
    "    # This function returns the fitness of the matrix according to the smoothness, \n",
    "    # monotonicity, number of empty cells, maximum value in the matrix and sum of the values in the matrix.\n",
    "    # Taken from Ovolve user. https://github.com/ovolve/2048-AI\n",
    "    def fitness(self):\n",
    "        vectors = [\n",
    "          (0,  -1), # up\n",
    "          (1,  0 ), # right\n",
    "          (0,  1 ), # down\n",
    "          (-1, 0 ) # left\n",
    "        ]\n",
    "        \n",
    "        # this function counts the number of zeros in the matrix\n",
    "        def count_0(m):\n",
    "            count = 0\n",
    "            for i in m:\n",
    "                for j in i:\n",
    "                    if j == 0:\n",
    "                        count += 1\n",
    "            return count\n",
    "        \n",
    "        # measures how monotonic the grid is. This means the values of the tiles are strictly increasing\n",
    "        # or decreasing in both the left/right and up/down directions\n",
    "        def monotonicity2(m):\n",
    "            # scores for all four directions\n",
    "            totals = [0, 0, 0, 0]\n",
    "\n",
    "            # up/down direction\n",
    "            for x in range(4): \n",
    "                current = 0\n",
    "                next_Dir = current+1\n",
    "                while ( next_Dir<4 ) :\n",
    "                    while ( next_Dir<4 and not m[x][next_Dir]!=0 ):\n",
    "                        next_Dir+=1\n",
    "\n",
    "                    if (next_Dir>=4):\n",
    "                        next_Dir-=1\n",
    "                    if m[x][current]!=0:\n",
    "                        currentValue =  math.log(m[x][current]) / math.log(2) \n",
    "                    else:\n",
    "                        currentValue = 0\n",
    "\n",
    "                    if m[x][next_Dir]!=0:\n",
    "                        nextValue = math.log(m[x][next_Dir]) / math.log(2)\n",
    "                    else:\n",
    "                        nextValue = 0\n",
    "\n",
    "                    if (currentValue > nextValue):\n",
    "                        totals[0] += nextValue - currentValue\n",
    "                    elif (nextValue > currentValue):\n",
    "                        totals[1] += currentValue - nextValue\n",
    "\n",
    "                    current = next_Dir\n",
    "                    next_Dir+=1\n",
    "\n",
    "\n",
    "          # left/right direction\n",
    "            for y in range(4):\n",
    "                current = 0\n",
    "                next_Dir = current+1\n",
    "                while ( next_Dir<4 ):\n",
    "                    while  next_Dir<4 and not m[next_Dir][y]!=0:\n",
    "                        next_Dir+=1\n",
    "\n",
    "                    if (next_Dir>=4):\n",
    "                        next_Dir-=1\n",
    "\n",
    "                    if m[current][y]!=0:\n",
    "                        currentValue =  math.log(m[current][y]) / math.log(2)\n",
    "                    else:\n",
    "                        currentValue = 0\n",
    "\n",
    "                    if m[next_Dir][y]!=0:\n",
    "                        nextValue = math.log(m[next_Dir][y]) / math.log(2)\n",
    "                    else:\n",
    "                        nextValue = 0\n",
    "\n",
    "                    if (currentValue > nextValue):\n",
    "                        totals[2] += nextValue - currentValue\n",
    "                    elif (nextValue > currentValue):\n",
    "                        totals[3] += currentValue - nextValue\n",
    "\n",
    "                    current = next_Dir;\n",
    "                    next_Dir+=1\n",
    "\n",
    "            return max(totals[0], totals[1]) + max(totals[2], totals[3])\n",
    "        \n",
    "        # Progress towards the vector direction until an obstacle is found\n",
    "        def findFarthestPosition(m, x, y, dir_x, dir_y):\n",
    "            while (x>=0 and x<4) and (y>=0 and y<4):\n",
    "                x += dir_x\n",
    "                y += dir_y\n",
    "            return x - dir_x, y - dir_y\n",
    "\n",
    "\n",
    "        # measures how smooth the grid is (as if the values of the pieces\n",
    "        # were interpreted as elevations). Sums of the pairwise difference\n",
    "        # between neighboring tiles (in log space, so it represents the\n",
    "        # number of merges that need to happen before they can merge). \n",
    "        # Note that the pieces can be distant\n",
    "        def smoothness(m):\n",
    "            smoothness = 0\n",
    "            for x in range(4):\n",
    "                for y in range(4):\n",
    "                    if ( m[x][y]!= 0):\n",
    "                        value = math.log(m[x][y]) / math.log(2)\n",
    "                        direction=0\n",
    "                        while (direction<=3):\n",
    "                            vec_x, vec_y = vectors[direction]\n",
    "                            targetCell_x, targetCell_y = findFarthestPosition(m, x, y, vec_x, vec_y)\n",
    "                            if ( m[targetCell_x][targetCell_y] != 0 ):\n",
    "                                target_value = m[targetCell_x][targetCell_y]\n",
    "                                targetValue = math.log(target_value) / math.log(2)\n",
    "                                smoothness -= abs(value - targetValue)\n",
    "                            direction+=1\n",
    "            return smoothness\n",
    "        emptyCells = count_0(self.matrix)\n",
    "\n",
    "        smoothWeight = 0.1\n",
    "        mono2Weight  = 1.0\n",
    "        emptyWeight  = 2.7\n",
    "        maxWeight    = 1.0\n",
    "        sumWeight    = 0.03\n",
    "\n",
    "        a = smoothness(self.matrix) * smoothWeight\n",
    "        b = monotonicity2(self.matrix) * mono2Weight\n",
    "        if emptyCells == 0:\n",
    "            c = -10 * emptyWeight\n",
    "        else:\n",
    "            c = math.log(emptyCells) * emptyWeight\n",
    "        d = max(map(max, self.matrix)) * maxWeight\n",
    "        e = sum([sum(i) for i in self.matrix]) * sumWeight\n",
    "\n",
    "        return a + b + c + d + e"
   ]
  },
  {
   "cell_type": "markdown",
   "metadata": {
    "papermill": {
     "duration": 0.032155,
     "end_time": "2020-11-14T23:50:48.226410",
     "exception": false,
     "start_time": "2020-11-14T23:50:48.194255",
     "status": "completed"
    },
    "tags": []
   },
   "source": [
    "### Training the neural network"
   ]
  },
  {
   "cell_type": "markdown",
   "metadata": {
    "papermill": {
     "duration": 0.032191,
     "end_time": "2020-11-14T23:50:48.291479",
     "exception": false,
     "start_time": "2020-11-14T23:50:48.259288",
     "status": "completed"
    },
    "tags": []
   },
   "source": [
    "First we declare some global variables to be used through the whole notebook"
   ]
  },
  {
   "cell_type": "code",
   "execution_count": 6,
   "metadata": {
    "execution": {
     "iopub.execute_input": "2020-11-14T23:50:48.362499Z",
     "iopub.status.busy": "2020-11-14T23:50:48.361573Z",
     "iopub.status.idle": "2020-11-14T23:50:48.364591Z",
     "shell.execute_reply": "2020-11-14T23:50:48.363833Z"
    },
    "papermill": {
     "duration": 0.040921,
     "end_time": "2020-11-14T23:50:48.364715",
     "exception": false,
     "start_time": "2020-11-14T23:50:48.323794",
     "status": "completed"
    },
    "tags": []
   },
   "outputs": [],
   "source": [
    "# Name of the neat config file\n",
    "config_file = \"../input/mlnn-neat-files/neat_16.config\"\n",
    "# Name of the winner genome\n",
    "winner_name = \"./winner_genome.neat\"\n",
    "# Number of generations to train the neural network\n",
    "generations = 1000\n",
    "# Number of games to validate the neural network\n",
    "validation = 10000\n",
    "# Fitness function to use\n",
    "fitness_function = 1 # Only 1 or 2\n",
    "# whether to create checkpoints or not\n",
    "checkpoints = False"
   ]
  },
  {
   "cell_type": "markdown",
   "metadata": {
    "papermill": {
     "duration": 0.031957,
     "end_time": "2020-11-14T23:50:48.429006",
     "exception": false,
     "start_time": "2020-11-14T23:50:48.397049",
     "status": "completed"
    },
    "tags": []
   },
   "source": [
    "Function that evaluates a generation"
   ]
  },
  {
   "cell_type": "code",
   "execution_count": 7,
   "metadata": {
    "execution": {
     "iopub.execute_input": "2020-11-14T23:50:48.500159Z",
     "iopub.status.busy": "2020-11-14T23:50:48.499447Z",
     "iopub.status.idle": "2020-11-14T23:50:48.503040Z",
     "shell.execute_reply": "2020-11-14T23:50:48.502475Z"
    },
    "papermill": {
     "duration": 0.041953,
     "end_time": "2020-11-14T23:50:48.503165",
     "exception": false,
     "start_time": "2020-11-14T23:50:48.461212",
     "status": "completed"
    },
    "tags": []
   },
   "outputs": [],
   "source": [
    "global biggest\n",
    "biggest = 0"
   ]
  },
  {
   "cell_type": "code",
   "execution_count": 8,
   "metadata": {
    "execution": {
     "iopub.execute_input": "2020-11-14T23:50:48.592573Z",
     "iopub.status.busy": "2020-11-14T23:50:48.582490Z",
     "iopub.status.idle": "2020-11-14T23:50:48.595803Z",
     "shell.execute_reply": "2020-11-14T23:50:48.595050Z"
    },
    "papermill": {
     "duration": 0.060189,
     "end_time": "2020-11-14T23:50:48.595938",
     "exception": false,
     "start_time": "2020-11-14T23:50:48.535749",
     "status": "completed"
    },
    "tags": []
   },
   "outputs": [],
   "source": [
    "# Function that evaluates one generation\n",
    "def eval_genomes(genomes, config):\n",
    "    global biggest\n",
    "    # List with the neural network of each genome\n",
    "    nets = []\n",
    "    # List with each Genome\n",
    "    ge = []\n",
    "    # List with the Game board of each genome\n",
    "    boards = []\n",
    "    \n",
    "    # Load the neural networks, genomes and boards in the previous lists so we can access them with indexes\n",
    "    for _, genome in genomes:\n",
    "        # Create the neural network with the genome and save it in the net list\n",
    "        net = neat.nn.FeedForwardNetwork.create(genome, config)\n",
    "        nets.append(net)\n",
    "        # Create a new game\n",
    "        boards.append([game(), False])\n",
    "        # Set the genome fitness to 0 and save it in the ge list\n",
    "        genome.fitness = 0\n",
    "        ge.append(genome)\n",
    "    \n",
    "    run, all_over = True, len(boards)\n",
    "    # Execute until no more movements can be perform in any of the boards\n",
    "    while run:\n",
    "        for x, (board, over) in enumerate(boards):\n",
    "            # If the game is not over\n",
    "            if not over:\n",
    "                # Copy the old board\n",
    "                matrix = board.flatten()\n",
    "                \n",
    "                # check the valid movements\n",
    "                valid = np.array(board.valid_movements())\n",
    "                \n",
    "                # Use the neural network and get the output layer\n",
    "                # The input is the matrix of the game normalized\n",
    "                output = nets[x].activate(matrix)\n",
    "\n",
    "                # Apply softmax layer to the last output (a layer with 4 outputs)\n",
    "                output = softmax(output)\n",
    "                \n",
    "                # Multiply the output by the valid movements so we obtain only valid movements.\n",
    "                output = np.multiply(output, valid)\n",
    "                \n",
    "                # Use the index with the highest number as the key\n",
    "                key = np.argmax(output)\n",
    "\n",
    "                # Apply one action\n",
    "                board.key_down(key)\n",
    "                \n",
    "                # Get the state\n",
    "                board_state = board.get_state()\n",
    "                \n",
    "                # Update the fitness according to the game state\n",
    "                if board_state == \"lose\":\n",
    "                    boards[x][1] = True\n",
    "                    all_over -= 1\n",
    "                    \n",
    "                    if fitness_function == 1:\n",
    "                        ge[x].fitness = ge[x].fitness / 2\n",
    "                    else:\n",
    "                        ge[x].fitness = board.fitness() - 400\n",
    "                        \n",
    "                elif board_state == \"win\":\n",
    "                    boards[x][1] = True\n",
    "                    all_over -= 1\n",
    "                    if fitness_function == 1:\n",
    "                        ge[x].fitness = (5000 - ge[x].fitness) * 2\n",
    "                    else:\n",
    "                        ge[x].fitness = board.fitness() + 500\n",
    "                else:\n",
    "                    if fitness_function == 1:\n",
    "                        ge[x].fitness += 1\n",
    "                    else:\n",
    "                        ge[x].fitness = board.fitness()\n",
    "                \n",
    "        # If all the games are over we finish this generation   \n",
    "        if all_over == 0:\n",
    "            run = False\n",
    "    gen = None\n",
    "    k = 0\n",
    "    for x, genome in genomes:\n",
    "        if genome.fitness > biggest:\n",
    "            gen = nets[k]\n",
    "            biggest = genome.fitness\n",
    "        k += 1\n",
    "    if gen != None:\n",
    "        # Save the genome with the best fitness\n",
    "        with open(\"./genome\"+str(int(biggest))+\".neat\", \"wb\") as f:\n",
    "            pickle.dump(gen, f)"
   ]
  },
  {
   "cell_type": "markdown",
   "metadata": {
    "papermill": {
     "duration": 0.031131,
     "end_time": "2020-11-14T23:50:48.659760",
     "exception": false,
     "start_time": "2020-11-14T23:50:48.628629",
     "status": "completed"
    },
    "tags": []
   },
   "source": [
    "### Neat configuration"
   ]
  },
  {
   "cell_type": "code",
   "execution_count": 9,
   "metadata": {
    "execution": {
     "iopub.execute_input": "2020-11-14T23:50:48.729659Z",
     "iopub.status.busy": "2020-11-14T23:50:48.728881Z",
     "iopub.status.idle": "2020-11-14T23:50:48.747403Z",
     "shell.execute_reply": "2020-11-14T23:50:48.746693Z"
    },
    "papermill": {
     "duration": 0.055313,
     "end_time": "2020-11-14T23:50:48.747517",
     "exception": false,
     "start_time": "2020-11-14T23:50:48.692204",
     "status": "completed"
    },
    "tags": []
   },
   "outputs": [],
   "source": [
    "import neat"
   ]
  },
  {
   "cell_type": "code",
   "execution_count": null,
   "metadata": {
    "execution": {
     "iopub.execute_input": "2020-11-14T23:50:48.823055Z",
     "iopub.status.busy": "2020-11-14T23:50:48.822113Z",
     "iopub.status.idle": "2020-11-15T07:21:06.569295Z",
     "shell.execute_reply": "2020-11-15T07:21:06.568603Z"
    },
    "papermill": {
     "duration": 27017.787648,
     "end_time": "2020-11-15T07:21:06.569458",
     "exception": false,
     "start_time": "2020-11-14T23:50:48.781810",
     "status": "completed"
    },
    "scrolled": true,
    "tags": []
   },
   "outputs": [],
   "source": [
    "configuration = neat.config.Config(neat.DefaultGenome, \n",
    "                                   neat.DefaultReproduction,\n",
    "                                   neat.DefaultSpeciesSet,  \n",
    "                                   neat.DefaultStagnation,\n",
    "                                   config_file)\n",
    "# Create the population\n",
    "population = neat.Population(configuration)\n",
    "\n",
    "# Print stats of the population\n",
    "population.add_reporter(neat.StdOutReporter(True))\n",
    "stats = neat.StatisticsReporter()\n",
    "population.add_reporter(stats)\n",
    "# Add reporter to obtain checkpoints\n",
    "if checkpoints:\n",
    "    population.add_reporter(neat.Checkpointer(1))\n",
    "population.run(eval_genomes, generations)"
   ]
  },
  {
   "cell_type": "markdown",
   "metadata": {
    "papermill": {
     "duration": 0.56063,
     "end_time": "2020-11-15T07:21:07.708258",
     "exception": false,
     "start_time": "2020-11-15T07:21:07.147628",
     "status": "completed"
    },
    "tags": []
   },
   "source": [
    "Save the winner"
   ]
  },
  {
   "cell_type": "code",
   "execution_count": null,
   "metadata": {
    "execution": {
     "iopub.execute_input": "2020-11-15T07:21:08.828729Z",
     "iopub.status.busy": "2020-11-15T07:21:08.827913Z",
     "iopub.status.idle": "2020-11-15T07:21:08.913613Z",
     "shell.execute_reply": "2020-11-15T07:21:08.912866Z"
    },
    "papermill": {
     "duration": 0.646732,
     "end_time": "2020-11-15T07:21:08.913736",
     "exception": false,
     "start_time": "2020-11-15T07:21:08.267004",
     "status": "completed"
    },
    "tags": []
   },
   "outputs": [],
   "source": [
    "# Save the genome with the best fitness\n",
    "with open(winner_name, \"wb\") as f:\n",
    "    pickle.dump(winner, f)"
   ]
  },
  {
   "cell_type": "markdown",
   "metadata": {
    "papermill": {
     "duration": 0.557779,
     "end_time": "2020-11-15T07:21:10.028638",
     "exception": false,
     "start_time": "2020-11-15T07:21:09.470859",
     "status": "completed"
    },
    "tags": []
   },
   "source": [
    "### Validation"
   ]
  },
  {
   "cell_type": "code",
   "execution_count": null,
   "metadata": {
    "execution": {
     "iopub.execute_input": "2020-11-15T07:21:11.152449Z",
     "iopub.status.busy": "2020-11-15T07:21:11.151589Z",
     "iopub.status.idle": "2020-11-15T07:21:11.172554Z",
     "shell.execute_reply": "2020-11-15T07:21:11.171834Z"
    },
    "papermill": {
     "duration": 0.587077,
     "end_time": "2020-11-15T07:21:11.172672",
     "exception": false,
     "start_time": "2020-11-15T07:21:10.585595",
     "status": "completed"
    },
    "tags": []
   },
   "outputs": [],
   "source": [
    "config = neat.config.Config(neat.DefaultGenome, \n",
    "                            neat.DefaultReproduction, \n",
    "                            neat.DefaultSpeciesSet, \n",
    "                            neat.DefaultStagnation, \n",
    "                            config_file)\n",
    "# Unpickle saved winner\n",
    "with open(winner_name, \"rb\") as f:\n",
    "    genome = pickle.load(f)\n",
    "\n",
    "# Convert loaded genome into required data structure\n",
    "genomes = [(1, genome)]\n",
    "        \n",
    "# Feed Fordward Network\n",
    "net = neat.nn.FeedForwardNetwork.create(genome, config)"
   ]
  },
  {
   "cell_type": "code",
   "execution_count": null,
   "metadata": {
    "execution": {
     "iopub.execute_input": "2020-11-15T07:21:12.329798Z",
     "iopub.status.busy": "2020-11-15T07:21:12.328744Z",
     "iopub.status.idle": "2020-11-15T07:21:12.334009Z",
     "shell.execute_reply": "2020-11-15T07:21:12.333298Z"
    },
    "papermill": {
     "duration": 0.593229,
     "end_time": "2020-11-15T07:21:12.334126",
     "exception": false,
     "start_time": "2020-11-15T07:21:11.740897",
     "status": "completed"
    },
    "tags": []
   },
   "outputs": [],
   "source": [
    "max_values = {}\n",
    "steps = []\n",
    "for i in range(validation):\n",
    "    # print(\"STEP: \", i, \" of \", validation)\n",
    "    g = game()\n",
    "    movements = 0\n",
    "    while g.get_state() == \"not over\":\n",
    "        \n",
    "        # Obtain the matrix    \n",
    "        matrix = g.flatten()\n",
    "        # Obtain the valid movements\n",
    "        valid = np.array(g.valid_movements())\n",
    "        # Use the neural network and get the output layer\n",
    "        output = net.activate(matrix)\n",
    "        # output = net.activate(np.concatenate((matrix, valid)))\n",
    "        # Apply softmax layer to the last output\n",
    "        output = softmax(output)\n",
    "        # Use the index with the highest number as the key\n",
    "        output = np.multiply(output, valid)                                      \n",
    "        # Use the output with highest number as our key\n",
    "        key = np.argmax(output, axis=0)\n",
    "        # Apply the movement\n",
    "        g.key_down(key)\n",
    "        \n",
    "        movements += 1\n",
    "        \n",
    "    maximum = max(map(max, g.matrix))\n",
    "    steps.append(movements)\n",
    "    if maximum in max_values:\n",
    "        max_values[maximum] += 1\n",
    "    else:\n",
    "        max_values[maximum] = 1                "
   ]
  },
  {
   "cell_type": "code",
   "execution_count": null,
   "metadata": {
    "execution": {
     "iopub.execute_input": "2020-11-15T07:21:13.475554Z",
     "iopub.status.busy": "2020-11-15T07:21:13.474610Z",
     "iopub.status.idle": "2020-11-15T07:21:13.480783Z",
     "shell.execute_reply": "2020-11-15T07:21:13.480193Z"
    },
    "papermill": {
     "duration": 0.583458,
     "end_time": "2020-11-15T07:21:13.480914",
     "exception": false,
     "start_time": "2020-11-15T07:21:12.897456",
     "status": "completed"
    },
    "tags": []
   },
   "outputs": [],
   "source": [
    "print(\"max_value / number_of_times\", sorted(list(max_values.items())))\n",
    "print(\"AVG number of movements\", sum(steps)/ len(steps))"
   ]
  },
  {
   "cell_type": "code",
   "execution_count": null,
   "metadata": {
    "execution": {
     "iopub.execute_input": "2020-11-15T07:21:14.612186Z",
     "iopub.status.busy": "2020-11-15T07:21:14.611403Z",
     "iopub.status.idle": "2020-11-15T07:21:14.724073Z",
     "shell.execute_reply": "2020-11-15T07:21:14.723319Z"
    },
    "papermill": {
     "duration": 0.683657,
     "end_time": "2020-11-15T07:21:14.724195",
     "exception": false,
     "start_time": "2020-11-15T07:21:14.040538",
     "status": "completed"
    },
    "tags": []
   },
   "outputs": [],
   "source": [
    "def func(pct, allvals):\n",
    "    absolute = int(pct/100.*np.sum(allvals))\n",
    "    return \"{:.1f}%\\n({:d} times)\".format(pct, absolute)\n",
    "\n",
    "# Pie chart, where the slices will be ordered and plotted counter-clockwise:\n",
    "\n",
    "labels = [str(i[0]) for i in max_values.items()]\n",
    "sizes = [i[1] for i in max_values.items()]\n",
    "\n",
    "fig1, ax1 = plt.subplots()\n",
    "ax1.pie(sizes, labels=labels, autopct=lambda pct: func(pct, sizes),\n",
    "        shadow=True, startangle=90)\n",
    "ax1.axis('equal')  # Equal aspect ratio ensures that pie is drawn as a circle.\n",
    "\n",
    "plt.xlabel(\"Maximum puntuation obtained in \" + str(validation) + \" games\")\n",
    "plt.legend()\n",
    "plt.show()"
   ]
  },
  {
   "cell_type": "code",
   "execution_count": null,
   "metadata": {
    "execution": {
     "iopub.execute_input": "2020-11-15T07:21:15.851093Z",
     "iopub.status.busy": "2020-11-15T07:21:15.850386Z",
     "iopub.status.idle": "2020-11-15T07:21:16.006432Z",
     "shell.execute_reply": "2020-11-15T07:21:16.005678Z"
    },
    "papermill": {
     "duration": 0.725466,
     "end_time": "2020-11-15T07:21:16.006557",
     "exception": false,
     "start_time": "2020-11-15T07:21:15.281091",
     "status": "completed"
    },
    "tags": []
   },
   "outputs": [],
   "source": [
    "# Bar plot\n",
    "plt.bar(labels, sizes)\n",
    "plt.xlabel(\"Maximum puntuation obtained in \" + str(validation) + \" games\")\n",
    "plt.show()"
   ]
  },
  {
   "cell_type": "code",
   "execution_count": null,
   "metadata": {
    "papermill": {
     "duration": 0.562492,
     "end_time": "2020-11-15T07:21:17.134612",
     "exception": false,
     "start_time": "2020-11-15T07:21:16.572120",
     "status": "completed"
    },
    "tags": []
   },
   "outputs": [],
   "source": []
  }
 ],
 "metadata": {
  "kernelspec": {
   "display_name": "Python 3",
   "language": "python",
   "name": "python3"
  },
  "language_info": {
   "codemirror_mode": {
    "name": "ipython",
    "version": 3
   },
   "file_extension": ".py",
   "mimetype": "text/x-python",
   "name": "python",
   "nbconvert_exporter": "python",
   "pygments_lexer": "ipython3",
   "version": "3.7.6"
  },
  "papermill": {
   "duration": 27058.928481,
   "end_time": "2020-11-15T07:21:18.819472",
   "environment_variables": {},
   "exception": null,
   "input_path": "__notebook__.ipynb",
   "output_path": "__notebook__.ipynb",
   "parameters": {},
   "start_time": "2020-11-14T23:50:19.890991",
   "version": "2.1.0"
  }
 },
 "nbformat": 4,
 "nbformat_minor": 4
}
